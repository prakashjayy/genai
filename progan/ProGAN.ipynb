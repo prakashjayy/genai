{
 "cells": [
  {
   "cell_type": "markdown",
   "id": "072093aa",
   "metadata": {},
   "source": [
    "> we need to clearly show the difference between ProGAN generator and the simple generator being used in DINet. make parallels to it.  \n",
    "\n",
    "> For comparision sake we will limit the genertor to 512x512 outputs instead of 1024x1024 used in ProGAN.\n",
    "\n",
    "\n",
    "> we perform pixelwise normalization of the feature vectors after each Conv 3×3 layer in the generator."
   ]
  },
  {
   "cell_type": "code",
   "execution_count": 1,
   "id": "d9e49775",
   "metadata": {},
   "outputs": [],
   "source": [
    "%load_ext autoreload\n",
    "%autoreload 2"
   ]
  },
  {
   "cell_type": "code",
   "execution_count": 11,
   "id": "b90bfb49",
   "metadata": {},
   "outputs": [],
   "source": [
    "import torch\n",
    "from model import Generator, Discriminator\n",
    "from mmengine import Config"
   ]
  },
  {
   "cell_type": "code",
   "execution_count": 3,
   "id": "7859a3a3",
   "metadata": {},
   "outputs": [
    {
     "data": {
      "text/plain": [
       "Config (path: config.py): {'image_root': '/root/prakash/data/ffhq/thumbnails128x128/', 'start_train_at_img_size': 4, 'device': 'cuda', 'lr': 0.001, 'batch_sizes': [32, 32, 32, 16, 16, 16], 'image_size': 128, 'img_channels': 3, 'z_dim': 128, 'in_channels': 128, 'lambda_gp': 10, 'progressive_epochs': [30, 30, 30, 30, 30, 30], 'factors': [1, 1, 1, 1, 0.5, 0.25]}"
      ]
     },
     "execution_count": 3,
     "metadata": {},
     "output_type": "execute_result"
    }
   ],
   "source": [
    "cfg = Config.fromfile(\"config.py\")\n",
    "cfg"
   ]
  },
  {
   "cell_type": "code",
   "execution_count": 4,
   "id": "c53fa5d7",
   "metadata": {
    "scrolled": true
   },
   "outputs": [
    {
     "data": {
      "text/plain": [
       "Generator(\n",
       "  (initial): Sequential(\n",
       "    (0): PixelNorm()\n",
       "    (1): ConvTranspose2d(128, 128, kernel_size=(4, 4), stride=(1, 1))\n",
       "    (2): LeakyReLU(negative_slope=0.2)\n",
       "    (3): WSConv2d(\n",
       "      (conv): Conv2d(128, 128, kernel_size=(3, 3), stride=(1, 1), padding=(1, 1), bias=False)\n",
       "    )\n",
       "    (4): LeakyReLU(negative_slope=0.2)\n",
       "    (5): PixelNorm()\n",
       "  )\n",
       "  (initial_rgb): WSConv2d(\n",
       "    (conv): Conv2d(128, 3, kernel_size=(1, 1), stride=(1, 1), bias=False)\n",
       "  )\n",
       "  (prog_blocks): ModuleList(\n",
       "    (0-2): 3 x ConvBlock(\n",
       "      (conv1): WSConv2d(\n",
       "        (conv): Conv2d(128, 128, kernel_size=(3, 3), stride=(1, 1), padding=(1, 1), bias=False)\n",
       "      )\n",
       "      (conv2): WSConv2d(\n",
       "        (conv): Conv2d(128, 128, kernel_size=(3, 3), stride=(1, 1), padding=(1, 1), bias=False)\n",
       "      )\n",
       "      (leaky): LeakyReLU(negative_slope=0.2)\n",
       "      (pn): PixelNorm()\n",
       "    )\n",
       "    (3): ConvBlock(\n",
       "      (conv1): WSConv2d(\n",
       "        (conv): Conv2d(128, 64, kernel_size=(3, 3), stride=(1, 1), padding=(1, 1), bias=False)\n",
       "      )\n",
       "      (conv2): WSConv2d(\n",
       "        (conv): Conv2d(64, 64, kernel_size=(3, 3), stride=(1, 1), padding=(1, 1), bias=False)\n",
       "      )\n",
       "      (leaky): LeakyReLU(negative_slope=0.2)\n",
       "      (pn): PixelNorm()\n",
       "    )\n",
       "    (4): ConvBlock(\n",
       "      (conv1): WSConv2d(\n",
       "        (conv): Conv2d(64, 32, kernel_size=(3, 3), stride=(1, 1), padding=(1, 1), bias=False)\n",
       "      )\n",
       "      (conv2): WSConv2d(\n",
       "        (conv): Conv2d(32, 32, kernel_size=(3, 3), stride=(1, 1), padding=(1, 1), bias=False)\n",
       "      )\n",
       "      (leaky): LeakyReLU(negative_slope=0.2)\n",
       "      (pn): PixelNorm()\n",
       "    )\n",
       "  )\n",
       "  (rgb_layers): ModuleList(\n",
       "    (0-3): 4 x WSConv2d(\n",
       "      (conv): Conv2d(128, 3, kernel_size=(1, 1), stride=(1, 1), bias=False)\n",
       "    )\n",
       "    (4): WSConv2d(\n",
       "      (conv): Conv2d(64, 3, kernel_size=(1, 1), stride=(1, 1), bias=False)\n",
       "    )\n",
       "    (5): WSConv2d(\n",
       "      (conv): Conv2d(32, 3, kernel_size=(1, 1), stride=(1, 1), bias=False)\n",
       "    )\n",
       "  )\n",
       ")"
      ]
     },
     "execution_count": 4,
     "metadata": {},
     "output_type": "execute_result"
    }
   ],
   "source": [
    "x = Generator(cfg.z_dim, cfg.in_channels, cfg.factors)\n",
    "x"
   ]
  },
  {
   "cell_type": "code",
   "execution_count": 8,
   "id": "e74d9f65",
   "metadata": {},
   "outputs": [
    {
     "data": {
      "text/plain": [
       "torch.Size([4, 128, 1, 1])"
      ]
     },
     "execution_count": 8,
     "metadata": {},
     "output_type": "execute_result"
    }
   ],
   "source": [
    "z = torch.randn((4, 128, 1, 1))\n",
    "z.shape"
   ]
  },
  {
   "cell_type": "code",
   "execution_count": 10,
   "id": "73038215",
   "metadata": {},
   "outputs": [
    {
     "name": "stdout",
     "output_type": "stream",
     "text": [
      "4 1 torch.Size([4, 3, 4, 4])\n",
      "8 1 torch.Size([4, 3, 8, 8])\n",
      "16 1 torch.Size([4, 3, 16, 16])\n",
      "32 1 torch.Size([4, 3, 32, 32])\n",
      "64 0.5 torch.Size([4, 3, 64, 64])\n",
      "128 0.25 torch.Size([4, 3, 128, 128])\n"
     ]
    }
   ],
   "source": [
    "for step, fac in enumerate(cfg.factors):\n",
    "    print(2**(2+step), fac, x(z, 0, step).shape)"
   ]
  },
  {
   "cell_type": "code",
   "execution_count": 12,
   "id": "c29f74f7",
   "metadata": {},
   "outputs": [
    {
     "data": {
      "text/plain": [
       "Discriminator(\n",
       "  (prog_blocks): ModuleList(\n",
       "    (0): ConvBlock(\n",
       "      (conv1): WSConv2d(\n",
       "        (conv): Conv2d(32, 64, kernel_size=(3, 3), stride=(1, 1), padding=(1, 1), bias=False)\n",
       "      )\n",
       "      (conv2): WSConv2d(\n",
       "        (conv): Conv2d(64, 64, kernel_size=(3, 3), stride=(1, 1), padding=(1, 1), bias=False)\n",
       "      )\n",
       "      (leaky): LeakyReLU(negative_slope=0.2)\n",
       "      (pn): PixelNorm()\n",
       "    )\n",
       "    (1): ConvBlock(\n",
       "      (conv1): WSConv2d(\n",
       "        (conv): Conv2d(64, 128, kernel_size=(3, 3), stride=(1, 1), padding=(1, 1), bias=False)\n",
       "      )\n",
       "      (conv2): WSConv2d(\n",
       "        (conv): Conv2d(128, 128, kernel_size=(3, 3), stride=(1, 1), padding=(1, 1), bias=False)\n",
       "      )\n",
       "      (leaky): LeakyReLU(negative_slope=0.2)\n",
       "      (pn): PixelNorm()\n",
       "    )\n",
       "    (2-4): 3 x ConvBlock(\n",
       "      (conv1): WSConv2d(\n",
       "        (conv): Conv2d(128, 128, kernel_size=(3, 3), stride=(1, 1), padding=(1, 1), bias=False)\n",
       "      )\n",
       "      (conv2): WSConv2d(\n",
       "        (conv): Conv2d(128, 128, kernel_size=(3, 3), stride=(1, 1), padding=(1, 1), bias=False)\n",
       "      )\n",
       "      (leaky): LeakyReLU(negative_slope=0.2)\n",
       "      (pn): PixelNorm()\n",
       "    )\n",
       "  )\n",
       "  (rgb_layers): ModuleList(\n",
       "    (0): WSConv2d(\n",
       "      (conv): Conv2d(3, 32, kernel_size=(1, 1), stride=(1, 1), bias=False)\n",
       "    )\n",
       "    (1): WSConv2d(\n",
       "      (conv): Conv2d(3, 64, kernel_size=(1, 1), stride=(1, 1), bias=False)\n",
       "    )\n",
       "    (2-5): 4 x WSConv2d(\n",
       "      (conv): Conv2d(3, 128, kernel_size=(1, 1), stride=(1, 1), bias=False)\n",
       "    )\n",
       "  )\n",
       "  (leaky): LeakyReLU(negative_slope=0.2)\n",
       "  (initial_rgb): WSConv2d(\n",
       "    (conv): Conv2d(3, 128, kernel_size=(1, 1), stride=(1, 1), bias=False)\n",
       "  )\n",
       "  (avg_pool): AvgPool2d(kernel_size=2, stride=2, padding=0)\n",
       "  (final_block): Sequential(\n",
       "    (0): WSConv2d(\n",
       "      (conv): Conv2d(129, 128, kernel_size=(3, 3), stride=(1, 1), padding=(1, 1), bias=False)\n",
       "    )\n",
       "    (1): LeakyReLU(negative_slope=0.2)\n",
       "    (2): WSConv2d(\n",
       "      (conv): Conv2d(128, 128, kernel_size=(4, 4), stride=(1, 1), bias=False)\n",
       "    )\n",
       "    (3): LeakyReLU(negative_slope=0.2)\n",
       "    (4): WSConv2d(\n",
       "      (conv): Conv2d(128, 1, kernel_size=(1, 1), stride=(1, 1), bias=False)\n",
       "    )\n",
       "  )\n",
       ")"
      ]
     },
     "execution_count": 12,
     "metadata": {},
     "output_type": "execute_result"
    }
   ],
   "source": [
    "disc = Discriminator(cfg.in_channels, cfg.factors)\n",
    "disc"
   ]
  },
  {
   "cell_type": "code",
   "execution_count": 13,
   "id": "620a5e4c",
   "metadata": {},
   "outputs": [
    {
     "data": {
      "text/plain": [
       "torch.Size([4, 3, 128, 128])"
      ]
     },
     "execution_count": 13,
     "metadata": {},
     "output_type": "execute_result"
    }
   ],
   "source": [
    "z = torch.randn((4, 3, 128, 128))\n",
    "z.shape"
   ]
  },
  {
   "cell_type": "code",
   "execution_count": 14,
   "id": "580b486d",
   "metadata": {},
   "outputs": [
    {
     "name": "stdout",
     "output_type": "stream",
     "text": [
      "4 1 torch.Size([4, 15625])\n",
      "8 1 torch.Size([4, 3721])\n",
      "16 1 torch.Size([4, 841])\n",
      "32 1 torch.Size([4, 169])\n",
      "64 0.5 torch.Size([4, 25])\n",
      "128 0.25 torch.Size([4, 1])\n"
     ]
    }
   ],
   "source": [
    "for step, fac in enumerate(cfg.factors):\n",
    "    print(2**(2+step), fac, disc(z, 0, step).shape)"
   ]
  },
  {
   "cell_type": "code",
   "execution_count": 15,
   "id": "7441cd64",
   "metadata": {},
   "outputs": [
    {
     "data": {
      "text/plain": [
       "1435634"
      ]
     },
     "execution_count": 15,
     "metadata": {},
     "output_type": "execute_result"
    }
   ],
   "source": [
    "out = 0\n",
    "for name, params in x.named_parameters():\n",
    "    out+=params.numel()\n",
    "out"
   ]
  },
  {
   "cell_type": "code",
   "execution_count": 16,
   "id": "d225d404",
   "metadata": {},
   "outputs": [
    {
     "data": {
      "text/plain": [
       "1575937"
      ]
     },
     "execution_count": 16,
     "metadata": {},
     "output_type": "execute_result"
    }
   ],
   "source": [
    "out = 0\n",
    "for name, params in disc.named_parameters():\n",
    "    out+=params.numel()\n",
    "out"
   ]
  },
  {
   "cell_type": "code",
   "execution_count": null,
   "id": "8bd2cc98",
   "metadata": {},
   "outputs": [],
   "source": []
  }
 ],
 "metadata": {
  "kernelspec": {
   "display_name": "Python 3 (ipykernel)",
   "language": "python",
   "name": "python3"
  },
  "language_info": {
   "codemirror_mode": {
    "name": "ipython",
    "version": 3
   },
   "file_extension": ".py",
   "mimetype": "text/x-python",
   "name": "python",
   "nbconvert_exporter": "python",
   "pygments_lexer": "ipython3",
   "version": "3.10.14"
  }
 },
 "nbformat": 4,
 "nbformat_minor": 5
}
