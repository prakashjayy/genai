{
 "cells": [
  {
   "cell_type": "markdown",
   "metadata": {},
   "source": [
    "## Score matching \n",
    "\n",
    "we have data $p_{d}(x)$ and since this is diffcult to model directly, we want to fit a model $p_{m}(x, \\theta)$. Here $\\theta$ is the parameter of the model. As we train the model, we want to match the data distribution $p_{d}(x)$ as closely as possible.\n",
    "\n",
    "we can write $p_{m}(x, \\theta)$ as:\n",
    "\n",
    "$$\n",
    "p_m(x;\\theta) = \\frac{\\tilde{p}(x;\\theta)}{Z_\\theta}, \\quad Z_\\theta = \\int_\\mathcal{X} \\tilde{p}(x;\\theta)dx.\n",
    "$$\n",
    "\n",
    "\n",
    "where $\\tilde{p}$ is the unnormalized model distribution. Now since z is intractable we can remove this by derivating the above equation with respect to x \n",
    "\n",
    "$$\n",
    "\\nabla_{\\mathbf{x}} \\log p_m(x;\\theta) = \\nabla_{\\mathbf{x}} \\log \\tilde{p}(x;\\theta)  + \\nabla_{\\mathbf{x}} \\log Z_\\theta\n",
    "$$\n",
    "\n",
    "and since $z_\\theta$ is independent of x, we can remove it.\n",
    "\n",
    "$$\n",
    "\\nabla_{\\mathbf{x}} \\log p_m(x;\\theta) = \\nabla_{\\mathbf{x}} \\log \\tilde{p}(x;\\theta)\n",
    "$$\n",
    "\n",
    "so even though it is not the model distribution in its original form, score function gives the gradient of the model distribution. So here we will match the gradient of the model distribution with the gradient of the data distribution. Using fisher divergence we can write the difference between the two gradients as:\n",
    "\n",
    "$$\n",
    "\\frac{1}{2}\\mathbb{E}_{p_d}\\left[\\|\\nabla_x \\log p_d(x) - \\nabla_x \\log p_m(x;\\theta)\\|_2^2\\right].\n",
    "$$\n",
    "\n",
    "and minimizing this is important to us. but computing this is difficult. The authors of the paper derived and wrote this in a simpler form as:\n",
    "\n",
    "$$\n",
    "L(\\theta) \\approx \\frac{1}{n}\\sum_{i=1}^n\\left[\\text{tr}\\left(\\nabla_x^2\\log p_m(x_i;\\theta)\\right) + \\frac{1}{2}\\|\\nabla_x\\log p_m(x_i;\\theta)\\|_2^2\\right]\n",
    "$$\n",
    "\n",
    "A detailed blog is on how we have arrived at this equation is [here]( https://andrewcharlesjones.github.io/journal/21-score-matching.html).\n",
    "\n",
    "so, ultimately this means that \n",
    "- we do a forward pass of the network \n",
    "- we take the gradient of the output with respect to the input (jacobian) - this is the score function. this is the 2nd term in the equation above.\n",
    "- we take another derivative of the score function with respect to the input (hessian) - this is the 1st term in the equation above. but while taking hessian we need to take care of the fact that we just need the diagonal elements of the hessian matrix. \n",
    "\n",
    "\n",
    "\n",
    "\n"
   ]
  },
  {
   "cell_type": "markdown",
   "metadata": {},
   "source": [
    "Now we will work on a toy example to understand this better.  Lets consider we have a 2D input and we want to fit a linear model to it with output having sigmoid.\n",
    "\n",
    "## 1st layer \n",
    "$$\n",
    "\\begin{bmatrix} y_1 \\\\ y_2 \\end{bmatrix} = \\begin{bmatrix} w_{11} & w_{12} \\\\ w_{21} & w_{22} \\end{bmatrix} \\begin{bmatrix} x_1 \\\\ x_2 \\end{bmatrix} + \\begin{bmatrix} b_1 \\\\ b_2 \\end{bmatrix}\n",
    "$$\n",
    "\n",
    "$$\n",
    " \\begin{bmatrix} y_1 \\\\ y_2 \\end{bmatrix} = \\begin{bmatrix} w_{11} x_1 + w_{21} x_2 + b_1 \\\\ w_{12} x_1 + w_{22} x_2 + b_2 \\end{bmatrix}\n",
    "$$\n",
    "\n",
    "## 2nd layer \n",
    "$$\n",
    "\\begin{bmatrix} y_1 \\\\ y_2 \\end{bmatrix} = \\begin{bmatrix} \\sigma(y_1) \\\\ \\sigma(y_2) \\end{bmatrix}\n",
    "$$\n",
    "\n",
    "\n",
    "Now lets calculate the score function $s_\\theta(x)$ aka jacobian of the output with respect to the input.\n",
    "\n",
    "$$\n",
    "J = \\begin{bmatrix}\n",
    "\\frac{\\partial y_1}{\\partial x_1} & \\frac{\\partial y_1}{\\partial x_2} \\\\\n",
    "\\frac{\\partial y_2}{\\partial x_1} & \\frac{\\partial y_2}{\\partial x_2}\n",
    "\\end{bmatrix}\n",
    "$$\n",
    "\n",
    "The hessian is the derivative of the jacobian with respect to the input. \n",
    "\n",
    "the hessian wrt to y1 is \n",
    "\n",
    "$$\n",
    "\\frac{\\partial^2 y_1}{\\partial x_1^2} = \\frac{\\partial}{\\partial x_1} \\left( \\frac{\\partial y_1}{\\partial x_1} \\right)\n",
    "$$\n",
    "\n",
    "the hessian wrt to y2 is \n",
    "\n",
    "$$\n",
    "\\frac{\\partial^2 y_2}{\\partial x_2^2} = \\frac{\\partial}{\\partial x_2} \\left( \\frac{\\partial y_2}{\\partial x_2} \\right)\n",
    "$$"
   ]
  },
  {
   "cell_type": "markdown",
   "metadata": {},
   "source": [
    "Now lets calculate the gradient for each element. In the above the first element is \n",
    "\n",
    "$$\n",
    "y1 = \\sigma(w_{11} x_1 + w_{21} x_2 + b_1)\n",
    "$$\n",
    "\n",
    "as we know the derivative of sigmoid is \n",
    "\n",
    "$$\n",
    "\\sigma'(x) = \\sigma(x) (1 - \\sigma(x))\n",
    "$$\n",
    "\n",
    "$$\n",
    "\\frac{\\partial y_1}{\\partial x_1} = \\sigma (w_{11} x_1 + w_{21} x_2 + b_1) (1 - \\sigma (w_{11} x_1 + w_{21} x_2 + b_1)) w_{11}\n",
    "$$\n",
    "\n",
    "$$\n",
    "\\frac{\\partial y_2}{\\partial x_2} = \\sigma (w_{12} x_1 + w_{22} x_2 + b_2) (1 - \\sigma (w_{12} x_1 + w_{22} x_2 + b_2)) w_{22}\n",
    "$$\n",
    "\n",
    "\n",
    "Now lets take some values and calculate this . we will take w_11 = 1, w_12 = 2, w_21 = 3, w_22 = 4, b_1 = 0, b_2 = 0, x_1 = 1, x_2 = 1\n",
    "\n",
    "$$\n",
    "\\frac{\\partial y_1}{\\partial x_1} = \\sigma (1 + 3 + 0) (1 - \\sigma (1 + 3 + 0)) 1 = 0.017\n",
    "$$\n",
    "\n",
    "we will see in pytorch how to calculate this. "
   ]
  },
  {
   "cell_type": "code",
   "execution_count": 21,
   "metadata": {},
   "outputs": [],
   "source": [
    "import matplotlib.pyplot as plt\n",
    "plt.style.use(\"bmh\")\n",
    "%matplotlib inline\n"
   ]
  },
  {
   "cell_type": "code",
   "execution_count": 1,
   "metadata": {},
   "outputs": [
    {
     "name": "stdout",
     "output_type": "stream",
     "text": [
      "Score output: tensor([[0.9820, 0.9975]], grad_fn=<SigmoidBackward0>)\n"
     ]
    }
   ],
   "source": [
    "import torch\n",
    "import torch.nn as nn\n",
    "\n",
    "# Simple score network\n",
    "class ToyScoreNetwork(nn.Module):\n",
    "    def __init__(self):\n",
    "        super().__init__()\n",
    "        self.linear = nn.Linear(2, 2)  # 2D input -> 2D output\n",
    "        self.linear.weight.data = torch.tensor([[1, 3], [2, 4]]).float()\n",
    "        self.linear.bias.data = torch.tensor([0, 0]).float()\n",
    "        \n",
    "    def forward(self, x):\n",
    "        return torch.sigmoid(self.linear(x))  # Returns score: [∂/∂x₁ log p, ∂/∂x₂ log p]\n",
    "\n",
    "# Create network and sample data\n",
    "score_net = ToyScoreNetwork()\n",
    "x = torch.tensor([[1.0, 1.0]], requires_grad=True)  # One 2D point\n",
    "\n",
    "# Method 1: Computing full gradients\n",
    "score = score_net(x)  # Shape: [1, 2]\n",
    "print(\"Score output:\", score)\n"
   ]
  },
  {
   "cell_type": "code",
   "execution_count": 2,
   "metadata": {},
   "outputs": [
    {
     "data": {
      "text/plain": [
       "(tensor([[-0.0226, -0.0629]], grad_fn=<MmBackward0>),)"
      ]
     },
     "execution_count": 2,
     "metadata": {},
     "output_type": "execute_result"
    }
   ],
   "source": [
    "grad1 = torch.autograd.grad(-score.sum(), x, create_graph=True)\n",
    "grad1"
   ]
  },
  {
   "cell_type": "code",
   "execution_count": 3,
   "metadata": {},
   "outputs": [
    {
     "data": {
      "text/plain": [
       "tensor([[0.0177, 0.0530]], grad_fn=<MmBackward0>)"
      ]
     },
     "execution_count": 3,
     "metadata": {},
     "output_type": "execute_result"
    }
   ],
   "source": [
    "torch.autograd.grad(\n",
    "        score[:, 0],  # Take i-th component\n",
    "        x,\n",
    "        create_graph=True\n",
    "    )[0]"
   ]
  },
  {
   "cell_type": "markdown",
   "metadata": {},
   "source": [
    "so if u see 0.017 term matches up with our original calculation. to calculate the overall loss we sum over the two terms and do the following"
   ]
  },
  {
   "cell_type": "code",
   "execution_count": 4,
   "metadata": {},
   "outputs": [
    {
     "name": "stdout",
     "output_type": "stream",
     "text": [
      "Diagonal element 0: tensor([0.0177], grad_fn=<SelectBackward0>)\n",
      "Diagonal element 1: tensor([0.0099], grad_fn=<SelectBackward0>)\n",
      "loss tensor([0.0275], grad_fn=<AddBackward0>)\n"
     ]
    }
   ],
   "source": [
    "div = 0 \n",
    "for i in range(2):  # For each dimension\n",
    "    grad_i = torch.autograd.grad(\n",
    "        score[:, i].sum(),  # Take i-th component\n",
    "        x,\n",
    "        create_graph=True\n",
    "    )[0][:, i]  # Take i-th diagonal element\n",
    "    div += grad_i\n",
    "    print(f\"Diagonal element {i}:\", grad_i)\n",
    "print(\"loss\", div)"
   ]
  },
  {
   "cell_type": "markdown",
   "metadata": {},
   "source": [
    "> Note: In the above code, gradient is calculated with respect to each output score value. for a 32x32 image, we have 1024 output scores. so we will have 1024 gradients passing. This can be quite slow and time consuming. \n",
    "\n",
    "> So there is another paper called [sliced score matching] to solve this.\n",
    "\n",
    "## Sliced score matching\n",
    "The fisher divergence between two distribution - data distribution vs model distribution is now defined as \n",
    "\n",
    "$$\n",
    "\\frac{1}{2}\\mathbb{E}_{p_v}\\mathbb{E}_{p_d}\\left[\\| s_m(x;\\theta) - s_d(x)\\|_2^2\\right].\n",
    "$$\n",
    "\n",
    "using sliced score matching this becomes \n",
    "$$\n",
    "\\mathbb{E}_{p_v} \\mathbb{E}_{p_d} [\\mathbf{v}^T \\nabla_{\\mathbf{x}} s_m(\\mathbf{x}; \\boldsymbol{\\theta})\\mathbf{v} + \\frac{1}{2}(\\mathbf{v}^T s_m(\\mathbf{x}; \\boldsymbol{\\theta}))^2]\n",
    "$$\n",
    "\n",
    "Other than our requirements on pv, the assumptions are exactly the same as in Theorem 1 of Hyvärinen (2005).\n",
    "\n",
    "\n",
    "Lets now see what is multivariate normal distribution means"
   ]
  },
  {
   "cell_type": "markdown",
   "metadata": {},
   "source": [
    "## Multivariate normal distribution"
   ]
  },
  {
   "cell_type": "code",
   "execution_count": 39,
   "metadata": {},
   "outputs": [
    {
     "data": {
      "text/plain": [
       "torch.Size([1000, 2])"
      ]
     },
     "execution_count": 39,
     "metadata": {},
     "output_type": "execute_result"
    }
   ],
   "source": [
    "import torch\n",
    "import torch.distributions as distributions\n",
    "\n",
    "# For a d-dimensional multivariate normal distribution\n",
    "d = 2  # Change this to your desired dimension # using this for visualization\n",
    "\n",
    "# Create a standard multivariate normal distribution\n",
    "# Mean = zero vector, Covariance = identity matrix\n",
    "mean = torch.zeros(d)\n",
    "covariance = torch.eye(d)  # Identity matrix\n",
    "\n",
    "# Create the distribution\n",
    "mvn = distributions.MultivariateNormal(loc=mean, covariance_matrix=covariance)\n",
    "\n",
    "# Sample from the distribution\n",
    "samples = mvn.sample()  # Single sample\n",
    "multiple_samples = mvn.sample((1000,))\n",
    "multiple_samples.shape"
   ]
  },
  {
   "cell_type": "code",
   "execution_count": 40,
   "metadata": {},
   "outputs": [
    {
     "data": {
      "image/png": "[encoded data removed]",
      "text/plain": [
       "<Figure size 300x300 with 1 Axes>"
      ]
     },
     "metadata": {},
     "output_type": "display_data"
    }
   ],
   "source": [
    "plt.figure(figsize=(3, 3))\n",
    "plt.scatter(multiple_samples[:, 0], multiple_samples[:, 1])\n",
    "plt.show()"
   ]
  },
  {
   "cell_type": "code",
   "execution_count": 37,
   "metadata": {},
   "outputs": [
    {
     "data": {
      "text/plain": [
       "<Figure size 400x400 with 0 Axes>"
      ]
     },
     "metadata": {},
     "output_type": "display_data"
    },
    {
     "data": {
      "image/png": "[encoded data removed]",
      "text/plain": [
       "<Figure size 300x300 with 1 Axes>"
      ]
     },
     "metadata": {},
     "output_type": "display_data"
    }
   ],
   "source": [
    "# Create a grid of points\n",
    "import numpy as np\n",
    "from matplotlib.colors import LinearSegmentedColormap\n",
    "x = np.linspace(-3, 3, 100)\n",
    "y = np.linspace(-3, 3, 100)\n",
    "X, Y = np.meshgrid(x, y)\n",
    "\n",
    "# Combine the grid points into coordinates\n",
    "pos = np.empty(X.shape + (2,))\n",
    "pos[:, :, 0] = X\n",
    "pos[:, :, 1] = Y\n",
    "\n",
    "# Calculate the PDF values at each point\n",
    "Z = np.zeros(X.shape)\n",
    "for i in range(X.shape[0]):\n",
    "    for j in range(X.shape[1]):\n",
    "        point = torch.tensor([X[i, j], Y[i, j]], dtype=torch.float32)\n",
    "        Z[i, j] = torch.exp(mvn.log_prob(point)).item()\n",
    "\n",
    "# Create a figure with two subplots\n",
    "fig = plt.figure(figsize=(4, 4))\n",
    "colors = [(1, 0.98, 0.94), (0.99, 0.85, 0.65), (0.85, 0.5, 0.1), (0.6, 0.24, 0)]\n",
    "cmap_name = 'cream_orange'\n",
    "cm = LinearSegmentedColormap.from_list(cmap_name, colors, N=100)\n",
    "\n",
    "plt.figure(figsize=(3, 3), facecolor='#FAF8F4')\n",
    "ax = plt.axes()\n",
    "ax.set_facecolor('#FAF8F4')\n",
    "\n",
    "# Plot the density as a color map\n",
    "plt.contourf(X, Y, Z, cmap=cm, alpha=0.7, levels=20)\n",
    "plt.show()"
   ]
  },
  {
   "cell_type": "markdown",
   "metadata": {},
   "source": [
    "## caluculate SSM"
   ]
  },
  {
   "cell_type": "code",
   "execution_count": 42,
   "metadata": {},
   "outputs": [
    {
     "name": "stdout",
     "output_type": "stream",
     "text": [
      "tensor([[0.9820, 0.9975]], grad_fn=<SigmoidBackward0>)\n"
     ]
    }
   ],
   "source": [
    "score_net = ToyScoreNetwork()\n",
    "x = torch.tensor([[1.0, 1.0]], requires_grad=True)  # One 2D point\n",
    "\n",
    "# Method 1: Computing full gradients\n",
    "score = score_net(x)  # Shape: [1, 2]\n",
    "print(score)"
   ]
  },
  {
   "cell_type": "code",
   "execution_count": 47,
   "metadata": {},
   "outputs": [],
   "source": [
    "def projection(x, d=1):\n",
    "    # Create a standard multivariate normal distribution\n",
    "    # Mean = zero vector, Covariance = identity matrix\n",
    "    mean = torch.zeros(d)\n",
    "    covariance = torch.eye(d)  # Identity matrix\n",
    "\n",
    "    # Create the distribution\n",
    "    mvn = distributions.MultivariateNormal(loc=mean, covariance_matrix=covariance)\n",
    "    return mvn\n",
    "proj = projection(x, d=1)"
   ]
  },
  {
   "cell_type": "code",
   "execution_count": 57,
   "metadata": {},
   "outputs": [
    {
     "data": {
      "text/plain": [
       "(torch.Size([1, 2]), tensor([[-1.1197, -0.3042]]))"
      ]
     },
     "execution_count": 57,
     "metadata": {},
     "output_type": "execute_result"
    }
   ],
   "source": [
    "# V.T * score => [1, 2] [2, 1] => [1, 1]\n",
    "vectors = proj.sample((score.shape[1],)).T\n",
    "vectors.shape, vectors"
   ]
  },
  {
   "cell_type": "code",
   "execution_count": 58,
   "metadata": {},
   "outputs": [
    {
     "data": {
      "text/plain": [
       "torch.Size([1])"
      ]
     },
     "execution_count": 58,
     "metadata": {},
     "output_type": "execute_result"
    }
   ],
   "source": [
    "v_dot_score = torch.sum(vectors * score, dim=1)\n",
    "v_dot_score.shape"
   ]
  },
  {
   "cell_type": "code",
   "execution_count": 59,
   "metadata": {},
   "outputs": [
    {
     "data": {
      "text/plain": [
       "tensor([[-0.0213, -0.0623]], grad_fn=<MmBackward0>)"
      ]
     },
     "execution_count": 59,
     "metadata": {},
     "output_type": "execute_result"
    }
   ],
   "source": [
    "grad_v_dot_score = torch.autograd.grad(\n",
    "            v_dot_score.sum(), x, create_graph=True)[0]\n",
    "grad_v_dot_score"
   ]
  },
  {
   "cell_type": "code",
   "execution_count": 63,
   "metadata": {},
   "outputs": [
    {
     "data": {
      "text/plain": [
       "tensor([0.0428], grad_fn=<SumBackward1>)"
      ]
     },
     "execution_count": 63,
     "metadata": {},
     "output_type": "execute_result"
    }
   ],
   "source": [
    "# Finally compute v^T ∇_x s(x) v\n",
    "term1 = torch.sum(vectors * grad_v_dot_score, dim=1)\n",
    "term1"
   ]
  },
  {
   "cell_type": "code",
   "execution_count": 64,
   "metadata": {},
   "outputs": [
    {
     "data": {
      "text/plain": [
       "tensor([0.9841], grad_fn=<MulBackward0>)"
      ]
     },
     "execution_count": 64,
     "metadata": {},
     "output_type": "execute_result"
    }
   ],
   "source": [
    "# Term 2: (1/2) (v^T s(x))^2\n",
    "term2 = 0.5 * v_dot_score**2\n",
    "term2 "
   ]
  },
  {
   "cell_type": "code",
   "execution_count": 65,
   "metadata": {},
   "outputs": [
    {
     "data": {
      "text/plain": [
       "tensor([1.0269], grad_fn=<AddBackward0>)"
      ]
     },
     "execution_count": 65,
     "metadata": {},
     "output_type": "execute_result"
    }
   ],
   "source": [
    "ssm = term1 + term2\n",
    "ssm\n"
   ]
  },
  {
   "cell_type": "code",
   "execution_count": 68,
   "metadata": {},
   "outputs": [
    {
     "data": {
      "text/plain": [
       "tensor([1.0225], grad_fn=<AddBackward0>)"
      ]
     },
     "execution_count": 68,
     "metadata": {},
     "output_type": "execute_result"
    }
   ],
   "source": [
    "term2_vr = 0.5 *torch.sum(score**2)\n",
    "term2_vr\n",
    "ssm_vr = term1 + term2_vr\n",
    "ssm_vr\n"
   ]
  },
  {
   "cell_type": "markdown",
   "metadata": {},
   "source": [
    "> more or less ssm_vr and ssm are same during initialization. "
   ]
  },
  {
   "cell_type": "code",
   "execution_count": null,
   "metadata": {},
   "outputs": [],
   "source": [
    "## VAE with implicit encoders "
   ]
  }
 ],
 "metadata": {
  "kernelspec": {
   "display_name": "audio",
   "language": "python",
   "name": "python3"
  },
  "language_info": {
   "codemirror_mode": {
    "name": "ipython",
    "version": 3
   },
   "file_extension": ".py",
   "mimetype": "text/x-python",
   "name": "python",
   "nbconvert_exporter": "python",
   "pygments_lexer": "ipython3",
   "version": "3.10.13"
  }
 },
 "nbformat": 4,
 "nbformat_minor": 2
}
